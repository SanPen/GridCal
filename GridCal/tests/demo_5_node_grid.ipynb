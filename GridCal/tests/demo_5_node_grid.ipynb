{
 "worksheets": [
  {
   "cells": [
    {
     "cell_type": "markdown",
     "metadata": {
      "collapsed": true
     },
     "source": [
      "In this demo, we're going to build and simulate a simple 5 node grid.\n",
      "\n",
      "First we must import GridCal's module."
     ]
    },
    {
     "cell_type": "code",
     "execution_count": null,
     "metadata": {},
     "outputs": [],
     "input": [
      "from grid.CircuitOO import *\n",
      "import numpy as np\n",
      "np.set_printoptions(precision=4)"
     ],
     "language": "python",
     "prompt_number": 25
    },
    {
     "cell_type": "markdown",
     "metadata": {},
     "source": [
      "Then, we need to create a MultiCircuit object instance, in other words, create a circuit that can handle islands."
     ]
    },
    {
     "cell_type": "code",
     "execution_count": null,
     "metadata": {},
     "outputs": [
      {
       "stream": "stdout",
       "output_type": "stream",
       "text": [
        "\n"
       ]
      }
     ],
     "input": [
      "grid = MultiCircuit()"
     ],
     "language": "python",
     "prompt_number": 26
    },
    {
     "cell_type": "markdown",
     "metadata": {},
     "source": [
      "Now, we have to add the buses (Nodes) and Branches (Lines, transformers, etc)\n",
      "\n",
      "In GridCal, there are only Buses and Branches. Any other object like loads, generators, etc, are placed as objects inside a Bus. This makes the object handling far simpler than having to add all the devices in separate lists and than make the assiciation of them to a particular Bus. Ths is specially important when creating and deleting buses.\n",
      "\n",
      "Now we're going to create buses, aggregate the load and generation devices to them, and then add those buses to the grid."
     ]
    },
    {
     "cell_type": "code",
     "execution_count": null,
     "metadata": {},
     "outputs": [],
     "input": [
      "bus1 = Bus('Bus 1', vnom=20)\n",
      "# bus1.is_slack = True\n",
      "bus1.controlled_generators.append(ControlledGenerator('Slack Generator', voltage_module=1.0))\n",
      "grid.add_bus(bus1)\n",
      "\n",
      "bus2 = Bus('Bus 2', vnom=20)\n",
      "bus2.loads.append(Load('load 2', power=complex(40, 20)))\n",
      "grid.add_bus(bus2)\n",
      "\n",
      "bus3 = Bus('Bus 3', vnom=20)\n",
      "bus3.loads.append(Load('load 3', power=complex(25, 15)))\n",
      "grid.add_bus(bus3)\n",
      "\n",
      "bus4 = Bus('Bus 4', vnom=20)\n",
      "bus4.loads.append(Load('load 4', power=complex(40, 20)))\n",
      "grid.add_bus(bus4)\n",
      "\n",
      "bus5 = Bus('Bus 5', vnom=20)\n",
      "bus5.loads.append(Load('load 5', power=complex(50, 20)))\n",
      "grid.add_bus(bus5)"
     ],
     "language": "python",
     "prompt_number": 27
    },
    {
     "cell_type": "markdown",
     "metadata": {},
     "source": [
      "In the previous sequence we created 5 buses, one of them with a generator and the others with load devices.\n",
      "\n",
      "As you may know, there must always be a node where the amount of power is free. This node is the Slack node. Ideally it should be  the grid largest generator, or the main transformer high voltage bus in a distribution grid.\n",
      "\n",
      "There are two ways of determining the Slack node:\n",
      "\n",
      "* Directly: By setting a bus `is_slack` attribute to `True`\n",
      "* Indirectly: Add at least one voltage controlled device to any Bus, this will make the Bus be marked as PV (voltage controlled) and if there are no Slack nodes set, gridCal will automatically select the largest voltage controlled node as the slack.\n",
      "\n",
      "Now, let's add the Lines as generic Branches:"
     ]
    },
    {
     "cell_type": "code",
     "execution_count": null,
     "metadata": {},
     "outputs": [],
     "input": [
      "grid.branches.append(Branch(bus1, bus2, 'line 1-2', zserie=complex(0.05, 0.11), yshunt=complex(0, 0.02)))\n",
      "\n",
      "grid.branches.append(Branch(bus1, bus3, 'line 1-3', zserie=complex(0.05, 0.11), yshunt=complex(0, 0.02)))\n",
      "\n",
      "grid.branches.append(Branch(bus1, bus5, 'line 1-5', zserie=complex(0.03, 0.08), yshunt=complex(0, 0.02)))\n",
      "\n",
      "grid.branches.append(Branch(bus2, bus3, 'line 2-3', zserie=complex(0.04, 0.09), yshunt=complex(0, 0.02)))\n",
      "\n",
      "grid.branches.append(Branch(bus2, bus5, 'line 2-5', zserie=complex(0.04, 0.09), yshunt=complex(0, 0.02)))\n",
      "\n",
      "grid.branches.append(Branch(bus3, bus4, 'line 3-4', zserie=complex(0.06, 0.13), yshunt=complex(0, 0.03)))\n",
      "\n",
      "grid.branches.append(Branch(bus4, bus5, 'line 4-5', zserie=complex(0.04, 0.09), yshunt=complex(0, 0.02)))\n"
     ],
     "language": "python",
     "prompt_number": 28
    },
    {
     "cell_type": "markdown",
     "metadata": {},
     "source": [
      "Once the buses and the branches are added, we must compile the grid:"
     ]
    },
    {
     "cell_type": "code",
     "execution_count": null,
     "metadata": {},
     "outputs": [
      {
       "stream": "stdout",
       "output_type": "stream",
       "text": [
        "Setting the bus [0] as slack instead of pv\n",
        "Setting the bus [0] as slack instead of pv\n"
       ]
      }
     ],
     "input": [
      "grid.compile()\n"
     ],
     "language": "python",
     "prompt_number": 29
    },
    {
     "cell_type": "markdown",
     "metadata": {},
     "source": [
      "Since we did not specify the slack, directly, the bus with the controlled generator has been automatically selected by GridCal as the slack bus.\n",
      "\n",
      "We can display the Grid admittance matrix and the bus power injections vector with the following commands:"
     ]
    },
    {
     "cell_type": "code",
     "execution_count": null,
     "metadata": {},
     "outputs": [
      {
       "stream": "stdout",
       "output_type": "stream",
       "text": [
        "Ybus:\n",
        " [[ 10.9589-25.9974j  -3.4247 +7.5342j  -3.4247 +7.5342j   0.0000 +0.j      -4.1096+10.9589j]\n",
        " [ -3.4247 +7.5342j  11.6721-26.0609j  -4.1237 +9.2784j   0.0000 +0.j      -4.1237 +9.2784j]\n",
        " [ -3.4247 +7.5342j  -4.1237 +9.2784j  10.4752-23.1191j  -2.9268 +6.3415j   0.0000 +0.j    ]\n",
        " [  0.0000 +0.j       0.0000 +0.j      -2.9268 +6.3415j   7.0505-15.5948j  -4.1237 +9.2784j]\n",
        " [ -4.1096+10.9589j  -4.1237 +9.2784j   0.0000 +0.j      -4.1237 +9.2784j  12.3570-29.4856j]]\n"
       ]
      }
     ],
     "input": [
      "print('Ybus:\\n', grid.circuits[0].power_flow_input.Ybus.todense())"
     ],
     "language": "python",
     "prompt_number": 30
    },
    {
     "cell_type": "code",
     "execution_count": null,
     "metadata": {},
     "outputs": [
      {
       "stream": "stdout",
       "output_type": "stream",
       "text": [
        "Sbus:\n",
        " [ 0.00+0.j   -0.40-0.2j  -0.25-0.15j -0.40-0.2j  -0.50-0.2j ]\n"
       ]
      }
     ],
     "input": [
      "print('Sbus:\\n', grid.circuits[0].power_flow_input.Sbus)"
     ],
     "language": "python",
     "prompt_number": 31
    },
    {
     "cell_type": "markdown",
     "metadata": {},
     "source": [
      "Now we want to run a PowerFlow study in the grid, for that we do:"
     ]
    },
    {
     "cell_type": "code",
     "execution_count": null,
     "metadata": {},
     "outputs": [
      {
       "stream": "stdout",
       "output_type": "stream",
       "text": [
        "Setting the bus [0] as slack instead of pv\n"
       ]
      },
      {
       "prompt_number": 32,
       "metadata": {},
       "output_type": "pyout",
       "text": [
        "<grid.CircuitOO.PowerFlowResults at 0x7fb52da8b668>"
       ]
      }
     ],
     "input": [
      "options = PowerFlowOptions(SolverType.NR, verbose=False, robust=False)\n",
      "power_flow = PowerFlow(grid, options)\n",
      "power_flow.run()"
     ],
     "language": "python",
     "prompt_number": 32
    },
    {
     "cell_type": "markdown",
     "metadata": {},
     "source": [
      "Once that is done, we can see the results:"
     ]
    },
    {
     "cell_type": "code",
     "execution_count": null,
     "metadata": {},
     "outputs": [
      {
       "prompt_number": 33,
       "metadata": {},
       "output_type": "pyout",
       "text": [
        "array([ 1.    ,  0.9553,  0.9548,  0.9333,  0.9534])"
       ]
      }
     ],
     "input": [
      "abs(grid.power_flow_results.voltage)"
     ],
     "language": "python",
     "prompt_number": 33
    },
    {
     "cell_type": "code",
     "execution_count": null,
     "metadata": {},
     "outputs": [
      {
       "prompt_number": 34,
       "metadata": {},
       "output_type": "pyout",
       "text": [
        "array([ 0.4981,  0.497 ,  0.7606,  0.0167,  0.0506,  0.1967,  0.2431])"
       ]
      }
     ],
     "input": [
      "abs(grid.power_flow_results.Sbranch)"
     ],
     "language": "python",
     "prompt_number": 34
    },
    {
     "cell_type": "code",
     "execution_count": null,
     "metadata": {},
     "outputs": [
      {
       "ename": "AttributeError",
       "evalue": "'MultiCircuit' object has no attribute 'plot_graph'",
       "traceback": [
        "\u001b[0;31m---------------------------------------------------------------------------\u001b[0m\n\u001b[0;31mAttributeError\u001b[0m                            Traceback (most recent call last)",
        "\u001b[0;32m<ipython-input-35-5d344a5ef773>\u001b[0m in \u001b[0;36m<module>\u001b[0;34m()\u001b[0m\n\u001b[0;32m----> 1\u001b[0;31m \u001b[0mgrid\u001b[0m\u001b[0;34m.\u001b[0m\u001b[0mplot_graph\u001b[0m\u001b[0;34m(\u001b[0m\u001b[0;34m)\u001b[0m\u001b[0;34m\u001b[0m\u001b[0m\n\u001b[0m",
        "\u001b[0;31mAttributeError\u001b[0m: 'MultiCircuit' object has no attribute 'plot_graph'"
       ],
       "output_type": "pyerr"
      }
     ],
     "input": [
      "grid.plot_graph()"
     ],
     "language": "python",
     "prompt_number": 35
    },
    {
     "cell_type": "code",
     "execution_count": null,
     "metadata": {},
     "outputs": [],
     "input": [],
     "language": "python"
    }
   ]
  }
 ],
 "cells": [],
 "metadata": {
  "kernelspec": {
   "display_name": "Python 2",
   "language": "python",
   "name": "python2"
  },
  "language_info": {
   "codemirror_mode": {
    "name": "ipython",
    "version": 2
   },
   "file_extension": ".py",
   "mimetype": "text/x-python",
   "name": "python",
   "nbconvert_exporter": "python",
   "pygments_lexer": "ipython2",
   "version": "2.7.6"
  },
  "name": "",
  "signature": "sha256:f0cb7a3754432ee12a964af93c963c3cf1fc393996dd3af787401d4fa383968e"
 },
 "nbformat": 4,
 "nbformat_minor": 0
}
